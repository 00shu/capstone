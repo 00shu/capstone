{
 "cells": [
  {
   "cell_type": "code",
   "execution_count": 6,
   "id": "8a8ebc1a",
   "metadata": {},
   "outputs": [
    {
     "name": "stdout",
     "output_type": "stream",
     "text": [
      "Collecting pygame\n",
      "  Downloading pygame-2.6.1-cp312-cp312-macosx_11_0_arm64.whl.metadata (12 kB)\n",
      "Downloading pygame-2.6.1-cp312-cp312-macosx_11_0_arm64.whl (12.4 MB)\n",
      "\u001b[2K   \u001b[90m━━━━━━━━━━━━━━━━━━━━━━━━━━━━━━━━━━━━━━━━\u001b[0m \u001b[32m12.4/12.4 MB\u001b[0m \u001b[31m19.1 MB/s\u001b[0m eta \u001b[36m0:00:00\u001b[0ma \u001b[36m0:00:01\u001b[0m\n",
      "\u001b[?25hInstalling collected packages: pygame\n",
      "Successfully installed pygame-2.6.1\n",
      "Requirement already satisfied: pydantic in /opt/anaconda3/lib/python3.12/site-packages (2.8.2)\n",
      "Requirement already satisfied: annotated-types>=0.4.0 in /opt/anaconda3/lib/python3.12/site-packages (from pydantic) (0.6.0)\n",
      "Requirement already satisfied: pydantic-core==2.20.1 in /opt/anaconda3/lib/python3.12/site-packages (from pydantic) (2.20.1)\n",
      "Requirement already satisfied: typing-extensions>=4.6.1 in /opt/anaconda3/lib/python3.12/site-packages (from pydantic) (4.11.0)\n"
     ]
    }
   ],
   "source": [
    "!pip install pygame\n",
    "!pip install pydantic"
   ]
  },
  {
   "cell_type": "code",
   "execution_count": 8,
   "id": "217c31dc",
   "metadata": {},
   "outputs": [
    {
     "ename": "ModuleNotFoundError",
     "evalue": "No module named 'pydantic'",
     "output_type": "error",
     "traceback": [
      "\u001b[0;31m---------------------------------------------------------------------------\u001b[0m",
      "\u001b[0;31mModuleNotFoundError\u001b[0m                       Traceback (most recent call last)",
      "\u001b[0;32m/var/folders/v8/9kg_s4kx2rqg8jnp2369d0000000gn/T/ipykernel_19238/2590340536.py\u001b[0m in \u001b[0;36m<module>\u001b[0;34m\u001b[0m\n\u001b[1;32m      2\u001b[0m \u001b[0;32mimport\u001b[0m \u001b[0msys\u001b[0m\u001b[0;34m\u001b[0m\u001b[0;34m\u001b[0m\u001b[0m\n\u001b[1;32m      3\u001b[0m \u001b[0;32mimport\u001b[0m \u001b[0mjson\u001b[0m\u001b[0;34m\u001b[0m\u001b[0;34m\u001b[0m\u001b[0m\n\u001b[0;32m----> 4\u001b[0;31m \u001b[0;32mfrom\u001b[0m \u001b[0mworld_generator\u001b[0m \u001b[0;32mimport\u001b[0m \u001b[0mgenerate_world\u001b[0m\u001b[0;34m\u001b[0m\u001b[0;34m\u001b[0m\u001b[0m\n\u001b[0m\u001b[1;32m      5\u001b[0m \u001b[0;34m\u001b[0m\u001b[0m\n\u001b[1;32m      6\u001b[0m \u001b[0;31m# Initialize pygame\u001b[0m\u001b[0;34m\u001b[0m\u001b[0;34m\u001b[0m\u001b[0m\n",
      "\u001b[0;32m~/Desktop/Sem 8/Capstone/world_generator.py\u001b[0m in \u001b[0;36m<module>\u001b[0;34m\u001b[0m\n\u001b[1;32m      3\u001b[0m \u001b[0;32mimport\u001b[0m \u001b[0mrequests\u001b[0m\u001b[0;34m\u001b[0m\u001b[0;34m\u001b[0m\u001b[0m\n\u001b[1;32m      4\u001b[0m \u001b[0;32mfrom\u001b[0m \u001b[0mtyping\u001b[0m \u001b[0;32mimport\u001b[0m \u001b[0mList\u001b[0m\u001b[0;34m\u001b[0m\u001b[0;34m\u001b[0m\u001b[0m\n\u001b[0;32m----> 5\u001b[0;31m \u001b[0;32mfrom\u001b[0m \u001b[0mpydantic\u001b[0m \u001b[0;32mimport\u001b[0m \u001b[0mBaseModel\u001b[0m\u001b[0;34m,\u001b[0m \u001b[0mValidationError\u001b[0m\u001b[0;34m\u001b[0m\u001b[0;34m\u001b[0m\u001b[0m\n\u001b[0m\u001b[1;32m      6\u001b[0m \u001b[0;34m\u001b[0m\u001b[0m\n\u001b[1;32m      7\u001b[0m \u001b[0;34m\u001b[0m\u001b[0m\n",
      "\u001b[0;31mModuleNotFoundError\u001b[0m: No module named 'pydantic'"
     ]
    }
   ],
   "source": [
    "import pygame\n",
    "import sys\n",
    "import json\n",
    "from world_generator import generate_world\n",
    "\n",
    "# Initialize pygame\n",
    "pygame.init()\n",
    "screen = pygame.display.set_mode((960, 640))\n",
    "pygame.display.set_caption(\"Ravenshade Manor - Mystery Solver\")\n",
    "clock = pygame.time.Clock()\n",
    "\n",
    "# Fonts and Colors\n",
    "font = pygame.font.SysFont(\"serif\", 20)\n",
    "title_font = pygame.font.SysFont(\"serif\", 30, bold=True)\n",
    "WHITE = (255, 255, 255)\n",
    "BLACK = (0, 0, 0)\n",
    "GRAY = (200, 200, 200)\n",
    "DARKGRAY = (50, 50, 50)\n",
    "\n",
    "# Load the world from JSON\n",
    "world = generate_world(\"world_content.json\")\n",
    "current_location = list(world.keys())[0]  # Start in the first location\n",
    "\n",
    "# UI Helpers\n",
    "def draw_text(surface, text, pos, font, color=WHITE):\n",
    "    lines = text.split('\\n')\n",
    "    for i, line in enumerate(lines):\n",
    "        txt_surf = font.render(line, True, color)\n",
    "        surface.blit(txt_surf, (pos[0], pos[1] + i * (font.get_height() + 5)))\n",
    "\n",
    "def draw_panel():\n",
    "    pygame.draw.rect(screen, DARKGRAY, (0, 480, 960, 160))\n",
    "    pygame.draw.line(screen, GRAY, (0, 480), (960, 480), 2)\n",
    "\n",
    "# Main Game Loop\n",
    "running = True\n",
    "while running:\n",
    "    screen.fill(BLACK)\n",
    "\n",
    "    location = world[current_location]\n",
    "\n",
    "    # Draw Title\n",
    "    draw_text(screen, location['name'], (20, 20), title_font)\n",
    "\n",
    "    # Draw Description\n",
    "    draw_text(screen, location['visual_description'], (20, 70), font)\n",
    "\n",
    "    # Draw NPCs\n",
    "    draw_text(screen, \"\\nNPCs:\", (20, 150), font)\n",
    "    y_offset = 180\n",
    "    for npc in location['npcs']:\n",
    "        npc_info = f\"- {npc['name']}: {npc['visual_description']}\"\n",
    "        draw_text(screen, npc_info, (40, y_offset), font)\n",
    "        y_offset += 50\n",
    "\n",
    "    # Draw Choices Panel\n",
    "    draw_panel()\n",
    "    draw_text(screen, \"Move to:\", (20, 500), font)\n",
    "    for i, conn in enumerate(location['connections']):\n",
    "        draw_text(screen, f\"[{i+1}] {conn}\", (40, 530 + i * 25), font)\n",
    "\n",
    "    # Event Handling\n",
    "    for event in pygame.event.get():\n",
    "        if event.type == pygame.QUIT:\n",
    "            running = False\n",
    "        elif event.type == pygame.KEYDOWN:\n",
    "            if pygame.K_1 <= event.key <= pygame.K_9:\n",
    "                choice = event.key - pygame.K_1\n",
    "                if choice < len(location['connections']):\n",
    "                    current_location = location['connections'][choice]\n",
    "\n",
    "    pygame.display.flip()\n",
    "    clock.tick(30)\n",
    "\n",
    "pygame.quit()\n",
    "sys.exit()"
   ]
  },
  {
   "cell_type": "code",
   "execution_count": null,
   "id": "a22d7a9e",
   "metadata": {},
   "outputs": [],
   "source": []
  }
 ],
 "metadata": {
  "kernelspec": {
   "display_name": "Python 3 (ipykernel)",
   "language": "python",
   "name": "python3"
  },
  "language_info": {
   "codemirror_mode": {
    "name": "ipython",
    "version": 3
   },
   "file_extension": ".py",
   "mimetype": "text/x-python",
   "name": "python",
   "nbconvert_exporter": "python",
   "pygments_lexer": "ipython3",
   "version": "3.9.13"
  }
 },
 "nbformat": 4,
 "nbformat_minor": 5
}
